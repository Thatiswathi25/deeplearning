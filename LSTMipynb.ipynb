{
  "nbformat": 4,
  "nbformat_minor": 0,
  "metadata": {
    "colab": {
      "provenance": [],
      "authorship_tag": "ABX9TyMBCIE30mhKpsZiLoRc7Jtn",
      "include_colab_link": true
    },
    "kernelspec": {
      "name": "python3",
      "display_name": "Python 3"
    },
    "language_info": {
      "name": "python"
    }
  },
  "cells": [
    {
      "cell_type": "markdown",
      "metadata": {
        "id": "view-in-github",
        "colab_type": "text"
      },
      "source": [
        "<a href=\"https://colab.research.google.com/github/Thatiswathi25/deeplearning/blob/main/LSTMipynb.ipynb\" target=\"_parent\"><img src=\"https://colab.research.google.com/assets/colab-badge.svg\" alt=\"Open In Colab\"/></a>"
      ]
    },
    {
      "cell_type": "code",
      "execution_count": 1,
      "metadata": {
        "colab": {
          "base_uri": "https://localhost:8080/"
        },
        "id": "4mlAIDXQQTtk",
        "outputId": "3197fe1c-c0b5-4f36-e323-eba28a1f4f73"
      },
      "outputs": [
        {
          "output_type": "stream",
          "name": "stdout",
          "text": [
            "Model: \"model\"\n",
            "_________________________________________________________________\n",
            " Layer (type)                Output Shape              Param #   \n",
            "=================================================================\n",
            " input_1 (InputLayer)        [(None, None)]            0         \n",
            "                                                                 \n",
            " embedding (Embedding)       (None, None, 128)         2560000   \n",
            "                                                                 \n",
            " bidirectional (Bidirection  (None, 128)               98816     \n",
            " al)                                                             \n",
            "                                                                 \n",
            " dense (Dense)               (None, 1)                 129       \n",
            "                                                                 \n",
            "=================================================================\n",
            "Total params: 2658945 (10.14 MB)\n",
            "Trainable params: 2658945 (10.14 MB)\n",
            "Non-trainable params: 0 (0.00 Byte)\n",
            "_________________________________________________________________\n",
            "Downloading data from https://storage.googleapis.com/tensorflow/tf-keras-datasets/imdb.npz\n",
            "17464789/17464789 [==============================] - 0s 0us/step\n",
            "25000 Training sequences\n",
            "25000 Validation sequences\n",
            "Epoch 1/2\n",
            "782/782 [==============================] - 337s 425ms/step - loss: 0.3958 - accuracy: 0.8206 - val_loss: 0.3446 - val_accuracy: 0.8589\n",
            "Epoch 2/2\n",
            "782/782 [==============================] - 328s 419ms/step - loss: 0.2263 - accuracy: 0.9128 - val_loss: 0.3229 - val_accuracy: 0.8638\n"
          ]
        },
        {
          "output_type": "execute_result",
          "data": {
            "text/plain": [
              "<keras.src.callbacks.History at 0x7d421df4a170>"
            ]
          },
          "metadata": {},
          "execution_count": 1
        }
      ],
      "source": [
        "import numpy as np\n",
        "from tensorflow.keras.datasets import imdb\n",
        "from tensorflow.keras import Model\n",
        "from tensorflow.keras.layers import Input,Embedding,Bidirectional,LSTM,Dense\n",
        "from tensorflow.keras.preprocessing.sequence import pad_sequences\n",
        "max_features = 20000\n",
        "maxlen = 200\n",
        "inputs = Input(shape=(None,), dtype=\"int32\")\n",
        "x = Embedding(max_features, 128)(inputs)\n",
        "x = Bidirectional(LSTM(64))(x)\n",
        "outputs = Dense(1, activation=\"sigmoid\")(x)\n",
        "model = Model(inputs, outputs)\n",
        "model.summary()\n",
        "(x_train, y_train), (x_val, y_val) = imdb.load_data(num_words=max_features)\n",
        "print(len(x_train), \"Training sequences\")\n",
        "print(len(x_val), \"Validation sequences\")\n",
        "x_train = pad_sequences(x_train, maxlen=maxlen)\n",
        "x_val = pad_sequences(x_val, maxlen=maxlen)\n",
        "model.compile(\"adam\", \"binary_crossentropy\", metrics=[\"accuracy\"])\n",
        "model.fit(x_train, y_train, batch_size=32, epochs=2, validation_data=(x_val, y_val))"
      ]
    }
  ]
}