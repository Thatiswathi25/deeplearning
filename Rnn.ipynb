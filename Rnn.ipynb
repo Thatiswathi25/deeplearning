{
  "nbformat": 4,
  "nbformat_minor": 0,
  "metadata": {
    "colab": {
      "provenance": [],
      "authorship_tag": "ABX9TyPvlCsd0sSG8A6ZlIfELb3w",
      "include_colab_link": true
    },
    "kernelspec": {
      "name": "python3",
      "display_name": "Python 3"
    },
    "language_info": {
      "name": "python"
    }
  },
  "cells": [
    {
      "cell_type": "markdown",
      "metadata": {
        "id": "view-in-github",
        "colab_type": "text"
      },
      "source": [
        "<a href=\"https://colab.research.google.com/github/Thatiswathi25/deeplearning/blob/main/Rnn.ipynb\" target=\"_parent\"><img src=\"https://colab.research.google.com/assets/colab-badge.svg\" alt=\"Open In Colab\"/></a>"
      ]
    },
    {
      "cell_type": "code",
      "execution_count": 1,
      "metadata": {
        "colab": {
          "base_uri": "https://localhost:8080/"
        },
        "id": "K4IVA7CAgR0D",
        "outputId": "0ee0cae3-0893-425b-d8ee-4172ddd78597"
      },
      "outputs": [
        {
          "output_type": "stream",
          "name": "stdout",
          "text": [
            "Epoch 1/10\n",
            "4/4 [==============================] - 2s 12ms/step - loss: 1.4123\n",
            "Epoch 2/10\n",
            "4/4 [==============================] - 0s 9ms/step - loss: 1.2601\n",
            "Epoch 3/10\n",
            "4/4 [==============================] - 0s 5ms/step - loss: 1.1688\n",
            "Epoch 4/10\n",
            "4/4 [==============================] - 0s 5ms/step - loss: 1.1046\n",
            "Epoch 5/10\n",
            "4/4 [==============================] - 0s 7ms/step - loss: 1.0649\n",
            "Epoch 6/10\n",
            "4/4 [==============================] - 0s 10ms/step - loss: 1.0457\n",
            "Epoch 7/10\n",
            "4/4 [==============================] - 0s 12ms/step - loss: 1.0301\n",
            "Epoch 8/10\n",
            "4/4 [==============================] - 0s 6ms/step - loss: 1.0244\n",
            "Epoch 9/10\n",
            "4/4 [==============================] - 0s 8ms/step - loss: 1.0254\n",
            "Epoch 10/10\n",
            "4/4 [==============================] - 0s 7ms/step - loss: 1.0235\n",
            "1/1 [==============================] - 0s 365ms/step - loss: 1.0138\n"
          ]
        },
        {
          "output_type": "execute_result",
          "data": {
            "text/plain": [
              "1.0137981176376343"
            ]
          },
          "metadata": {},
          "execution_count": 1
        }
      ],
      "source": [
        "import numpy as np\n",
        "import tensorflow as tf\n",
        "from tensorflow import keras\n",
        "model = keras.Sequential([keras.layers.SimpleRNN(32, input_shape=(10,1)),keras.layers.Dense(1)])\n",
        "model.compile(optimizer='adam', loss='mse')\n",
        "X_train = np.random.randn(100, 10, 1)\n",
        "y_train = np.random.randn(100, 1)\n",
        "model.fit(X_train, y_train, epochs=10, batch_size=32)\n",
        "X_test = np.random.randn(10, 10, 1)\n",
        "y_test = np.random.randn(10, 1)\n",
        "model.evaluate(X_test, y_test)"
      ]
    }
  ]
}