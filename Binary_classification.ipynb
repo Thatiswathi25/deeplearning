{
  "nbformat": 4,
  "nbformat_minor": 0,
  "metadata": {
    "colab": {
      "provenance": [],
      "authorship_tag": "ABX9TyN5Cj+/lRz+2/ARwehFd9ap",
      "include_colab_link": true
    },
    "kernelspec": {
      "name": "python3",
      "display_name": "Python 3"
    },
    "language_info": {
      "name": "python"
    }
  },
  "cells": [
    {
      "cell_type": "markdown",
      "metadata": {
        "id": "view-in-github",
        "colab_type": "text"
      },
      "source": [
        "<a href=\"https://colab.research.google.com/github/Thatiswathi25/deeplearning/blob/main/Binary_classification.ipynb\" target=\"_parent\"><img src=\"https://colab.research.google.com/assets/colab-badge.svg\" alt=\"Open In Colab\"/></a>"
      ]
    },
    {
      "cell_type": "code",
      "execution_count": 1,
      "metadata": {
        "colab": {
          "base_uri": "https://localhost:8080/"
        },
        "id": "CeDqw_7eFXKq",
        "outputId": "460dcf09-9fb0-474b-9670-b6d80c5dea61"
      },
      "outputs": [
        {
          "output_type": "stream",
          "name": "stdout",
          "text": [
            "Epoch 1/10\n",
            "20/20 [==============================] - 3s 57ms/step - loss: 0.6739 - accuracy: 0.4984 - val_loss: 0.6485 - val_accuracy: 0.5938\n",
            "Epoch 2/10\n",
            "20/20 [==============================] - 0s 14ms/step - loss: 0.6529 - accuracy: 0.5281 - val_loss: 0.6236 - val_accuracy: 0.6062\n",
            "Epoch 3/10\n",
            "20/20 [==============================] - 1s 34ms/step - loss: 0.6337 - accuracy: 0.5703 - val_loss: 0.6024 - val_accuracy: 0.6438\n",
            "Epoch 4/10\n",
            "20/20 [==============================] - 0s 17ms/step - loss: 0.6149 - accuracy: 0.6187 - val_loss: 0.5842 - val_accuracy: 0.6750\n",
            "Epoch 5/10\n",
            "20/20 [==============================] - 0s 20ms/step - loss: 0.5961 - accuracy: 0.6547 - val_loss: 0.5630 - val_accuracy: 0.6750\n",
            "Epoch 6/10\n",
            "20/20 [==============================] - 0s 20ms/step - loss: 0.5757 - accuracy: 0.6953 - val_loss: 0.5439 - val_accuracy: 0.7063\n",
            "Epoch 7/10\n",
            "20/20 [==============================] - 0s 17ms/step - loss: 0.5545 - accuracy: 0.7484 - val_loss: 0.5244 - val_accuracy: 0.7812\n",
            "Epoch 8/10\n",
            "20/20 [==============================] - 0s 19ms/step - loss: 0.5328 - accuracy: 0.7953 - val_loss: 0.5036 - val_accuracy: 0.8188\n",
            "Epoch 9/10\n",
            "20/20 [==============================] - 0s 23ms/step - loss: 0.5092 - accuracy: 0.7984 - val_loss: 0.4811 - val_accuracy: 0.8375\n",
            "Epoch 10/10\n",
            "20/20 [==============================] - 0s 21ms/step - loss: 0.4849 - accuracy: 0.8297 - val_loss: 0.4597 - val_accuracy: 0.8813\n",
            "7/7 [==============================] - 0s 6ms/step\n",
            "Test accuracy: 0.8350\n"
          ]
        }
      ],
      "source": [
        "import numpy as np\n",
        "import tensorflow as tf\n",
        "from tensorflow.keras.models import Sequential\n",
        "from tensorflow.keras.layers import Dense,Input\n",
        "from sklearn.model_selection import train_test_split\n",
        "from sklearn.metrics import accuracy_score\n",
        "np.random.seed(42)\n",
        "X = np.random.rand(1000, 2)\n",
        "y = (X[:, 0] + X[:, 1] > 1).astype(int)\n",
        "X_train, X_test, y_train, y_test = train_test_split(X, y, test_size=0.2, random_state=42)\n",
        "model = Sequential([Input(shape=(2)),Dense(64, activation='relu'),Dense(1, activation='sigmoid')])\n",
        "model.compile(optimizer='adam',loss='binary_crossentropy',metrics=['accuracy'])\n",
        "model.fit(X_train, y_train, epochs=10, batch_size=32, validation_split=0.2)\n",
        "y_pred = model.predict(X_test)\n",
        "y_pred_binary = (y_pred > 0.5).astype(int)\n",
        "test_accuracy = accuracy_score(y_test, y_pred_binary)\n",
        "print(f\"Test accuracy: {test_accuracy:.4f}\")"
      ]
    }
  ]
}