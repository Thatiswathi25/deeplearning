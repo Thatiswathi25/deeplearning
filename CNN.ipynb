{
  "nbformat": 4,
  "nbformat_minor": 0,
  "metadata": {
    "colab": {
      "provenance": [],
      "authorship_tag": "ABX9TyMYroYkrTUz7D9P8mCe/Ke+",
      "include_colab_link": true
    },
    "kernelspec": {
      "name": "python3",
      "display_name": "Python 3"
    },
    "language_info": {
      "name": "python"
    }
  },
  "cells": [
    {
      "cell_type": "markdown",
      "metadata": {
        "id": "view-in-github",
        "colab_type": "text"
      },
      "source": [
        "<a href=\"https://colab.research.google.com/github/Thatiswathi25/deeplearning/blob/main/CNN.ipynb\" target=\"_parent\"><img src=\"https://colab.research.google.com/assets/colab-badge.svg\" alt=\"Open In Colab\"/></a>"
      ]
    },
    {
      "cell_type": "code",
      "execution_count": 1,
      "metadata": {
        "colab": {
          "base_uri": "https://localhost:8080/"
        },
        "id": "uRlbJ7V6Fyf8",
        "outputId": "ae682b31-8c27-484a-c921-17b5bc2c8dd6"
      },
      "outputs": [
        {
          "output_type": "stream",
          "name": "stdout",
          "text": [
            "Downloading data from https://storage.googleapis.com/tensorflow/tf-keras-datasets/mnist.npz\n",
            "11490434/11490434 [==============================] - 0s 0us/step\n",
            "Epoch 1/10\n",
            "300/300 - 28s - loss: 0.3802 - accuracy: 0.8834 - 28s/epoch - 95ms/step\n",
            "Epoch 2/10\n",
            "300/300 - 23s - loss: 0.1152 - accuracy: 0.9666 - 23s/epoch - 77ms/step\n",
            "Epoch 3/10\n",
            "300/300 - 23s - loss: 0.0846 - accuracy: 0.9754 - 23s/epoch - 77ms/step\n",
            "Epoch 4/10\n",
            "300/300 - 23s - loss: 0.0724 - accuracy: 0.9787 - 23s/epoch - 77ms/step\n",
            "Epoch 5/10\n",
            "300/300 - 23s - loss: 0.0610 - accuracy: 0.9821 - 23s/epoch - 77ms/step\n",
            "Epoch 6/10\n",
            "300/300 - 23s - loss: 0.0526 - accuracy: 0.9845 - 23s/epoch - 77ms/step\n",
            "Epoch 7/10\n",
            "300/300 - 23s - loss: 0.0470 - accuracy: 0.9862 - 23s/epoch - 77ms/step\n",
            "Epoch 8/10\n",
            "300/300 - 23s - loss: 0.0417 - accuracy: 0.9876 - 23s/epoch - 77ms/step\n",
            "Epoch 9/10\n",
            "300/300 - 23s - loss: 0.0378 - accuracy: 0.9883 - 23s/epoch - 77ms/step\n",
            "Epoch 10/10\n",
            "300/300 - 23s - loss: 0.0334 - accuracy: 0.9900 - 23s/epoch - 77ms/step\n",
            "Test accuracy: 99.16%\n"
          ]
        }
      ],
      "source": [
        "import tensorflow as tf\n",
        "from tensorflow.keras.datasets import mnist\n",
        "from tensorflow.keras.models import Sequential\n",
        "from tensorflow.keras.layers import Conv2D, MaxPooling2D, Flatten, Dense, Dropout\n",
        "from tensorflow.keras.utils import to_categorical\n",
        "# Load and preprocess the dataset\n",
        "(x_train, y_train), (x_test, y_test) = mnist.load_data()\n",
        "x_train = x_train.reshape(x_train.shape[0], 28, 28, 1).astype('float32') / 255\n",
        "x_test = x_test.reshape(x_test.shape[0], 28, 28, 1).astype('float32') / 255\n",
        "y_train = to_categorical(y_train, 10)\n",
        "y_test = to_categorical(y_test, 10)\n",
        "# Build the CNN model\n",
        "model = Sequential()\n",
        "model.add(Conv2D(32, kernel_size=(3, 3), activation='relu', input_shape=(28, 28, 1)))\n",
        "model.add(MaxPooling2D(pool_size=(2, 2)))\n",
        "model.add(Conv2D(64, kernel_size=(3, 3), activation='relu'))\n",
        "model.add(MaxPooling2D(pool_size=(2, 2)))\n",
        "model.add(Flatten())\n",
        "model.add(Dense(128, activation='relu'))\n",
        "model.add(Dropout(0.5))\n",
        "model.add(Dense(10, activation='softmax'))\n",
        "model.compile(loss='categorical_crossentropy', optimizer='adam',metrics=['accuracy'])\n",
        "# Train the model\n",
        "model.fit(x_train, y_train, epochs=10,batch_size=200, verbose=2)\n",
        "# Evaluate the model\n",
        "test_loss, test_acc = model.evaluate(x_test, y_test, verbose=0)\n",
        "print(f'Test accuracy: {test_acc*100:.2f}%')"
      ]
    }
  ]
}